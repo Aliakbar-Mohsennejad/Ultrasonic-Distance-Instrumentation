{
 "cells": [
  {
   "cell_type": "markdown",
   "id": "4ee584e7",
   "metadata": {},
   "source": [
    "# Distance Error Analysis\n",
    "This notebook loads the raw CSV files, computes error/accuracy, and plots results."
   ]
  },
  {
   "cell_type": "code",
   "execution_count": null,
   "id": "7359b5bd",
   "metadata": {},
   "outputs": [],
   "source": [
    "import pandas as pd\n",
    "import matplotlib.pyplot as plt\n",
    "\n",
    "normal = pd.read_csv(r\"/mnt/data/data/raw/normal_5_15_30cm.csv\")\n",
    "extremes = pd.read_csv(r\"/mnt/data/data/raw/extremes_5_15_30cm.csv\")\n",
    "compensated = pd.read_csv(r\"/mnt/data/data/raw/compensated_5_15_30cm.csv\")\n",
    "\n",
    "normal['scenario'] = 'normal'\n",
    "extremes['scenario'] = 'extremes'\n",
    "compensated['scenario'] = 'compensated'\n",
    "\n",
    "df = pd.concat([normal, extremes, compensated], ignore_index=True)\n",
    "df['error_cm'] = df['Measured_cm'] - df['Distance_cm']\n",
    "df['abs_error_cm'] = df['error_cm'].abs()\n",
    "df['reading_accuracy_percent'] = (1 - df['abs_error_cm'] / df['Distance_cm']).clip(lower=0) * 100\n",
    "df"
   ]
  },
  {
   "cell_type": "code",
   "execution_count": null,
   "id": "1944e9cc",
   "metadata": {},
   "outputs": [],
   "source": [
    "# Measured vs True\n",
    "plt.figure(figsize=(6,4))\n",
    "for scenario, g in df.groupby('scenario'):\n",
    "    plt.plot(g['Distance_cm'], g['Measured_cm'], marker='o', label=scenario)\n",
    "plt.plot(sorted(df['Distance_cm'].unique()), sorted(df['Distance_cm'].unique()), linestyle='--', label='ideal')\n",
    "plt.xlabel('True distance (cm)')\n",
    "plt.ylabel('Measured (cm)')\n",
    "plt.title('Measured vs True Distance')\n",
    "plt.legend()\n",
    "plt.show()"
   ]
  },
  {
   "cell_type": "code",
   "execution_count": null,
   "id": "a0d88cd3",
   "metadata": {},
   "outputs": [],
   "source": [
    "# Absolute error per scenario\n",
    "import numpy as np\n",
    "plt.figure(figsize=(6,4))\n",
    "targets = sorted(df['Distance_cm'].unique())\n",
    "xs = np.arange(len(targets))\n",
    "offset = 0.12\n",
    "for i, (scenario, g) in enumerate(df.groupby('scenario')):\n",
    "    errs = [g[g['Distance_cm']==t]['abs_error_cm'].values[0] for t in targets]\n",
    "    x_shifted = xs + (i-1)*offset\n",
    "    plt.plot(x_shifted, errs, marker='s', linestyle='-', label=scenario)\n",
    "plt.xticks(xs, [f\"{t} cm\" for t in targets])\n",
    "plt.xlabel('Target distance')\n",
    "plt.ylabel('Absolute error (cm)')\n",
    "plt.title('Absolute Error by Scenario')\n",
    "plt.legend()\n",
    "plt.show()"
   ]
  }
 ],
 "metadata": {},
 "nbformat": 4,
 "nbformat_minor": 5
}
